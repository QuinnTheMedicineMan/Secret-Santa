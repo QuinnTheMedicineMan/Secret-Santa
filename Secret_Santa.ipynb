{
 "cells": [
  {
   "cell_type": "code",
   "execution_count": 3,
   "metadata": {},
   "outputs": [
    {
     "name": "stdout",
     "output_type": "stream",
     "text": [
      "Liam -> Kat\n",
      "Rosie -> Martin\n",
      "Emily -> Becky\n",
      "Steven -> Sophie\n",
      "Hannah -> Ben\n",
      "Adam -> Tom\n",
      "Michelle -> Adam\n",
      "Tom -> Michael\n",
      "Michael -> Liam\n",
      "Sophie -> Emily\n",
      "Martin -> Steven\n",
      "Becky -> Hannah\n",
      "Kate -> Lizzy\n",
      "Kat -> Ash\n",
      "Lizzy -> Rosie\n",
      "Ash -> Kate\n",
      "Ben -> Michelle\n"
     ]
    }
   ],
   "source": [
    "import random, time\n",
    "\n",
    "# Seed the random number generator with the time so we get a different result each time\n",
    "random.seed(time.time())\n",
    "\n",
    "guests = [             # A nice list of all the guests\n",
    "    \"Liam\",\\\n",
    "    \"Rosie\",\\\n",
    "    \"Emily\",\\\n",
    "    \"Steven\",\\\n",
    "    \"Hannah\",\\\n",
    "    \"Adam\",\\\n",
    "    \"Michelle\",\\\n",
    "    \"Tom\",\\\n",
    "    \"Michael\",\\\n",
    "    \"Sophie\",\\\n",
    "    \"Martin\",\\\n",
    "    \"Becky\",\\\n",
    "    \"Kate\",\\\n",
    "    \"Kat\",\\\n",
    "    \"Lizzy\",\\\n",
    "    \"Ash\",\\\n",
    "    \"Ben\"\n",
    "]\n",
    "\n",
    "\n",
    "success = False               # Sometimes only one name is left in the hat, so you have to start again\n",
    "while not success:\n",
    "    success = True\n",
    "    \n",
    "    hat = guests[0:] # A list of all the guests who haven't got a present yet\n",
    "    santas = {}      # A dictionary where each Santa is paired up with their present receiver\n",
    "\n",
    "    for santa in guests:          # Check to see if the Santa is the only person left in the hat\n",
    "      if hat == [santa]:\n",
    "        success = False\n",
    "        break\n",
    "        \n",
    "      present_receiver = random.choice([guest for guest in hat if guest != santa]) # You can't be your own Santa!\n",
    "      hat.remove(present_receiver) # You can't get more than one present\n",
    "      santas.update({santa:present_receiver})\n",
    "      print santa + \" -> \" + present_receiver"
   ]
  },
  {
   "cell_type": "code",
   "execution_count": null,
   "metadata": {},
   "outputs": [],
   "source": []
  }
 ],
 "metadata": {
  "kernelspec": {
   "display_name": "Python 2",
   "language": "python",
   "name": "python2"
  },
  "language_info": {
   "codemirror_mode": {
    "name": "ipython",
    "version": 2
   },
   "file_extension": ".py",
   "mimetype": "text/x-python",
   "name": "python",
   "nbconvert_exporter": "python",
   "pygments_lexer": "ipython2",
   "version": "2.7.6"
  }
 },
 "nbformat": 4,
 "nbformat_minor": 2
}
